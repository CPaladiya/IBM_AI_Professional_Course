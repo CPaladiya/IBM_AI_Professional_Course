{
 "cells": [
  {
   "cell_type": "markdown",
   "metadata": {},
   "source": [
    "### PART A ###  \n",
    "\n",
    "Use the Keras library to build a neural network with the following:\n",
    "- One hidden layer of 10 nodes, and a ReLU activation function\n",
    "- Use the adam optimizer and the mean squared error  as the loss function.\n",
    "\n",
    "1. Randomly split the data into a training and test sets by holding 30% of the data for testing. You can use the train_test_splithelper function from Scikit-learn.\n",
    "\n",
    "2. Train the model on the training data using 50 epochs.\n",
    "\n",
    "3. Evaluate the model on the test data and compute the mean squared error between the predicted concrete strength and the actual concrete strength. You can use the mean_squared_error function from Scikit-learn.\n",
    "\n",
    "4. Repeat steps 1 - 3, 50 times, i.e., create a list of 50 mean squared errors.\n",
    "\n",
    "5. Report the mean and the standard deviation of the mean squared errors."
   ]
  },
  {
   "cell_type": "code",
   "execution_count": 22,
   "metadata": {},
   "outputs": [
    {
     "data": {
      "text/html": [
       "<div>\n",
       "<style scoped>\n",
       "    .dataframe tbody tr th:only-of-type {\n",
       "        vertical-align: middle;\n",
       "    }\n",
       "\n",
       "    .dataframe tbody tr th {\n",
       "        vertical-align: top;\n",
       "    }\n",
       "\n",
       "    .dataframe thead th {\n",
       "        text-align: right;\n",
       "    }\n",
       "</style>\n",
       "<table border=\"1\" class=\"dataframe\">\n",
       "  <thead>\n",
       "    <tr style=\"text-align: right;\">\n",
       "      <th></th>\n",
       "      <th>Cement</th>\n",
       "      <th>Blast Furnace Slag</th>\n",
       "      <th>Fly Ash</th>\n",
       "      <th>Water</th>\n",
       "      <th>Superplasticizer</th>\n",
       "      <th>Coarse Aggregate</th>\n",
       "      <th>Fine Aggregate</th>\n",
       "      <th>Age</th>\n",
       "      <th>Strength</th>\n",
       "    </tr>\n",
       "  </thead>\n",
       "  <tbody>\n",
       "    <tr>\n",
       "      <th>0</th>\n",
       "      <td>540.0</td>\n",
       "      <td>0.0</td>\n",
       "      <td>0.0</td>\n",
       "      <td>162.0</td>\n",
       "      <td>2.5</td>\n",
       "      <td>1040.0</td>\n",
       "      <td>676.0</td>\n",
       "      <td>28</td>\n",
       "      <td>79.99</td>\n",
       "    </tr>\n",
       "    <tr>\n",
       "      <th>1</th>\n",
       "      <td>540.0</td>\n",
       "      <td>0.0</td>\n",
       "      <td>0.0</td>\n",
       "      <td>162.0</td>\n",
       "      <td>2.5</td>\n",
       "      <td>1055.0</td>\n",
       "      <td>676.0</td>\n",
       "      <td>28</td>\n",
       "      <td>61.89</td>\n",
       "    </tr>\n",
       "    <tr>\n",
       "      <th>2</th>\n",
       "      <td>332.5</td>\n",
       "      <td>142.5</td>\n",
       "      <td>0.0</td>\n",
       "      <td>228.0</td>\n",
       "      <td>0.0</td>\n",
       "      <td>932.0</td>\n",
       "      <td>594.0</td>\n",
       "      <td>270</td>\n",
       "      <td>40.27</td>\n",
       "    </tr>\n",
       "    <tr>\n",
       "      <th>3</th>\n",
       "      <td>332.5</td>\n",
       "      <td>142.5</td>\n",
       "      <td>0.0</td>\n",
       "      <td>228.0</td>\n",
       "      <td>0.0</td>\n",
       "      <td>932.0</td>\n",
       "      <td>594.0</td>\n",
       "      <td>365</td>\n",
       "      <td>41.05</td>\n",
       "    </tr>\n",
       "    <tr>\n",
       "      <th>4</th>\n",
       "      <td>198.6</td>\n",
       "      <td>132.4</td>\n",
       "      <td>0.0</td>\n",
       "      <td>192.0</td>\n",
       "      <td>0.0</td>\n",
       "      <td>978.4</td>\n",
       "      <td>825.5</td>\n",
       "      <td>360</td>\n",
       "      <td>44.30</td>\n",
       "    </tr>\n",
       "  </tbody>\n",
       "</table>\n",
       "</div>"
      ],
      "text/plain": [
       "   Cement  Blast Furnace Slag  Fly Ash  Water  Superplasticizer  \\\n",
       "0   540.0                 0.0      0.0  162.0               2.5   \n",
       "1   540.0                 0.0      0.0  162.0               2.5   \n",
       "2   332.5               142.5      0.0  228.0               0.0   \n",
       "3   332.5               142.5      0.0  228.0               0.0   \n",
       "4   198.6               132.4      0.0  192.0               0.0   \n",
       "\n",
       "   Coarse Aggregate  Fine Aggregate  Age  Strength  \n",
       "0            1040.0           676.0   28     79.99  \n",
       "1            1055.0           676.0   28     61.89  \n",
       "2             932.0           594.0  270     40.27  \n",
       "3             932.0           594.0  365     41.05  \n",
       "4             978.4           825.5  360     44.30  "
      ]
     },
     "execution_count": 22,
     "metadata": {},
     "output_type": "execute_result"
    }
   ],
   "source": [
    "# fetching the data\n",
    "import numpy as np\n",
    "import pandas as pd\n",
    "data = pd.read_csv('https://s3-api.us-geo.objectstorage.softlayer.net/cf-courses-data/CognitiveClass/DL0101EN/labs/data/concrete_data.csv')\n",
    "data.head()"
   ]
  },
  {
   "cell_type": "code",
   "execution_count": 23,
   "metadata": {},
   "outputs": [
    {
     "name": "stdout",
     "output_type": "stream",
     "text": [
      "Predictor dataset: \n",
      "    Cement  Blast Furnace Slag  Fly Ash  Water  Superplasticizer  \\\n",
      "0   540.0                 0.0      0.0  162.0               2.5   \n",
      "1   540.0                 0.0      0.0  162.0               2.5   \n",
      "2   332.5               142.5      0.0  228.0               0.0   \n",
      "3   332.5               142.5      0.0  228.0               0.0   \n",
      "4   198.6               132.4      0.0  192.0               0.0   \n",
      "\n",
      "   Coarse Aggregate  Fine Aggregate  \n",
      "0            1040.0           676.0  \n",
      "1            1055.0           676.0  \n",
      "2             932.0           594.0  \n",
      "3             932.0           594.0  \n",
      "4             978.4           825.5  \n",
      "target dataset : \n",
      " 0    79.99\n",
      "1    61.89\n",
      "2    40.27\n",
      "3    41.05\n",
      "4    44.30\n",
      "Name: Strength, dtype: float64\n"
     ]
    }
   ],
   "source": [
    "# Predictor data\n",
    "predictor = data.drop(['Age','Strength'], axis=1)\n",
    "# target data\n",
    "target = data['Strength']\n",
    "print('Predictor dataset: \\n', predictor[:5])\n",
    "print('target dataset : \\n',target[:5])\n"
   ]
  },
  {
   "cell_type": "markdown",
   "metadata": {},
   "source": [
    "## Let's prepare the data sets for training and validation\n"
   ]
  },
  {
   "cell_type": "code",
   "execution_count": 24,
   "metadata": {},
   "outputs": [],
   "source": [
    "# Making the neural network\n",
    "from tensorflow import keras\n",
    "from tensorflow.keras.models import Sequential\n",
    "from tensorflow.keras.layers import Dense\n",
    "cols = 7 # we have 7 predictor variables\n",
    "\n",
    "# define regression model\n",
    "def regression_model():\n",
    "    # create model\n",
    "    model = Sequential()\n",
    "    model.add(Dense(10, activation='relu', input_shape=(cols,)))\n",
    "    model.add(Dense(1))\n",
    "    \n",
    "    # compile model\n",
    "    model.compile(optimizer='adam', loss='mean_squared_error',metrics=[\"mean_squared_error\"])\n",
    "    return model"
   ]
  },
  {
   "cell_type": "markdown",
   "metadata": {},
   "source": [
    "#### This loop will be run 50 times to complete the task A"
   ]
  },
  {
   "cell_type": "code",
   "execution_count": 26,
   "metadata": {},
   "outputs": [
    {
     "name": "stdout",
     "output_type": "stream",
     "text": [
      "Trial  1  MSE :  17.581385887045826\n",
      "Trial  2  MSE :  13.084057846332314\n",
      "Trial  3  MSE :  14.343670799261544\n",
      "Trial  4  MSE :  15.933968188705334\n",
      "Trial  5  MSE :  35.48259676814836\n",
      "Trial  6  MSE :  12.45726582776063\n",
      "Trial  7  MSE :  27.677509255010715\n",
      "Trial  8  MSE :  14.0392274471008\n",
      "Trial  9  MSE :  22.387871766140314\n",
      "Trial  10  MSE :  13.662487043902496\n",
      "Trial  11  MSE :  12.759913877408477\n",
      "Trial  12  MSE :  13.713757302375019\n",
      "Trial  13  MSE :  12.541009186331689\n",
      "Trial  14  MSE :  13.512013882797932\n",
      "Trial  15  MSE :  17.442255344007805\n",
      "Trial  16  MSE :  27.190354500264736\n",
      "Trial  17  MSE :  12.515122446535504\n",
      "Trial  18  MSE :  22.009590932397924\n",
      "Trial  19  MSE :  12.200793941138794\n",
      "Trial  20  MSE :  43.04766625684156\n",
      "Trial  21  MSE :  13.02470709388921\n",
      "Trial  22  MSE :  18.325302743259062\n",
      "Trial  23  MSE :  13.193015637342826\n",
      "Trial  24  MSE :  32.291013777478746\n",
      "Trial  25  MSE :  13.54908930297515\n",
      "Trial  26  MSE :  12.573097182290388\n",
      "Trial  27  MSE :  17.894126958302362\n",
      "Trial  28  MSE :  12.683422091364713\n",
      "Trial  29  MSE :  14.777956877389498\n",
      "Trial  30  MSE :  15.225259798854417\n",
      "Trial  31  MSE :  14.771649732739313\n",
      "Trial  32  MSE :  13.116739657209786\n",
      "Trial  33  MSE :  22.0509837301708\n",
      "Trial  34  MSE :  13.919712762533923\n",
      "Trial  35  MSE :  14.163221682921831\n",
      "Trial  36  MSE :  13.393779708971927\n",
      "Trial  37  MSE :  13.195088157050428\n",
      "Trial  38  MSE :  23.144385475657934\n",
      "Trial  39  MSE :  12.923701511836374\n",
      "Trial  40  MSE :  14.496348483366685\n",
      "Trial  41  MSE :  12.859693109586601\n",
      "Trial  42  MSE :  24.185056021236477\n",
      "Trial  43  MSE :  55.84685371409958\n",
      "Trial  44  MSE :  13.16000519234061\n",
      "Trial  45  MSE :  12.475362651403692\n",
      "Trial  46  MSE :  14.496488951003036\n",
      "Trial  47  MSE :  46.804324008189504\n",
      "Trial  48  MSE :  19.230762400966118\n",
      "Trial  49  MSE :  13.270745185313192\n",
      "Trial  50  MSE :  16.281795360332662\n"
     ]
    }
   ],
   "source": [
    "from  sklearn.model_selection import train_test_split\n",
    "from sklearn.metrics import mean_squared_error\n",
    "\n",
    "MSEs = []\n",
    "for i in range(0,50):\n",
    "    # preparing split data set for our neural network, everytime there will be different data set\n",
    "    from sklearn.model_selection import train_test_split\n",
    "    x_train, x_test, y_train, y_test = train_test_split(predictor.values, target.values, test_size=0.3, random_state=i)\n",
    "\n",
    "    # training the neural network with 50 epochs\n",
    "    partA_Model = regression_model()\n",
    "    partA_Model.fit(x_train,y_train, epochs=50, verbose=0)\n",
    "    \n",
    "    # evaluating the network on the test data\n",
    "    predict = partA_Model.predict(x_test)\n",
    "    MSE = np.sqrt(mean_squared_error(y_test, predict))\n",
    "    print(\"Trial \", i+1, \" MSE : \", MSE)\n",
    "    MSEs.append(MSE)\n",
    "\n"
   ]
  },
  {
   "cell_type": "code",
   "execution_count": 27,
   "metadata": {},
   "outputs": [
    {
     "name": "stdout",
     "output_type": "stream",
     "text": [
      " Part A : Mean of MSEs :  18.41812414919169 , Std deviation of MSEs :  9.341542598296293\n"
     ]
    }
   ],
   "source": [
    "# calculating mean and std deviation of mean_squared errors.\n",
    "partA_MSE_mean = np.mean(MSEs)\n",
    "partA_MSE_std = np.std(MSEs)\n",
    "print(\" Part A : Mean of MSEs : \", partA_MSE_mean, \", Std deviation of MSEs : \", partA_MSE_std)"
   ]
  }
 ],
 "metadata": {
  "kernelspec": {
   "display_name": "Python 3.6.13 ('kerasTFAMD')",
   "language": "python",
   "name": "python3"
  },
  "language_info": {
   "codemirror_mode": {
    "name": "ipython",
    "version": 3
   },
   "file_extension": ".py",
   "mimetype": "text/x-python",
   "name": "python",
   "nbconvert_exporter": "python",
   "pygments_lexer": "ipython3",
   "version": "3.6.13"
  },
  "orig_nbformat": 4,
  "vscode": {
   "interpreter": {
    "hash": "e2ac8d323b923e2467944fc7397511010ae06b2aeb624024ab6483c7456b6c12"
   }
  }
 },
 "nbformat": 4,
 "nbformat_minor": 2
}
