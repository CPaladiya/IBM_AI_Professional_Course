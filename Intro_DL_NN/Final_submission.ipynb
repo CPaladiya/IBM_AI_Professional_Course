{
 "cells": [
  {
   "cell_type": "markdown",
   "metadata": {},
   "source": [
    "### ***Loading required data***"
   ]
  },
  {
   "cell_type": "code",
   "execution_count": 1,
   "metadata": {},
   "outputs": [
    {
     "data": {
      "text/html": [
       "<div>\n",
       "<style scoped>\n",
       "    .dataframe tbody tr th:only-of-type {\n",
       "        vertical-align: middle;\n",
       "    }\n",
       "\n",
       "    .dataframe tbody tr th {\n",
       "        vertical-align: top;\n",
       "    }\n",
       "\n",
       "    .dataframe thead th {\n",
       "        text-align: right;\n",
       "    }\n",
       "</style>\n",
       "<table border=\"1\" class=\"dataframe\">\n",
       "  <thead>\n",
       "    <tr style=\"text-align: right;\">\n",
       "      <th></th>\n",
       "      <th>Cement</th>\n",
       "      <th>Blast Furnace Slag</th>\n",
       "      <th>Fly Ash</th>\n",
       "      <th>Water</th>\n",
       "      <th>Superplasticizer</th>\n",
       "      <th>Coarse Aggregate</th>\n",
       "      <th>Fine Aggregate</th>\n",
       "      <th>Age</th>\n",
       "      <th>Strength</th>\n",
       "    </tr>\n",
       "  </thead>\n",
       "  <tbody>\n",
       "    <tr>\n",
       "      <th>0</th>\n",
       "      <td>540.0</td>\n",
       "      <td>0.0</td>\n",
       "      <td>0.0</td>\n",
       "      <td>162.0</td>\n",
       "      <td>2.5</td>\n",
       "      <td>1040.0</td>\n",
       "      <td>676.0</td>\n",
       "      <td>28</td>\n",
       "      <td>79.99</td>\n",
       "    </tr>\n",
       "    <tr>\n",
       "      <th>1</th>\n",
       "      <td>540.0</td>\n",
       "      <td>0.0</td>\n",
       "      <td>0.0</td>\n",
       "      <td>162.0</td>\n",
       "      <td>2.5</td>\n",
       "      <td>1055.0</td>\n",
       "      <td>676.0</td>\n",
       "      <td>28</td>\n",
       "      <td>61.89</td>\n",
       "    </tr>\n",
       "    <tr>\n",
       "      <th>2</th>\n",
       "      <td>332.5</td>\n",
       "      <td>142.5</td>\n",
       "      <td>0.0</td>\n",
       "      <td>228.0</td>\n",
       "      <td>0.0</td>\n",
       "      <td>932.0</td>\n",
       "      <td>594.0</td>\n",
       "      <td>270</td>\n",
       "      <td>40.27</td>\n",
       "    </tr>\n",
       "    <tr>\n",
       "      <th>3</th>\n",
       "      <td>332.5</td>\n",
       "      <td>142.5</td>\n",
       "      <td>0.0</td>\n",
       "      <td>228.0</td>\n",
       "      <td>0.0</td>\n",
       "      <td>932.0</td>\n",
       "      <td>594.0</td>\n",
       "      <td>365</td>\n",
       "      <td>41.05</td>\n",
       "    </tr>\n",
       "    <tr>\n",
       "      <th>4</th>\n",
       "      <td>198.6</td>\n",
       "      <td>132.4</td>\n",
       "      <td>0.0</td>\n",
       "      <td>192.0</td>\n",
       "      <td>0.0</td>\n",
       "      <td>978.4</td>\n",
       "      <td>825.5</td>\n",
       "      <td>360</td>\n",
       "      <td>44.30</td>\n",
       "    </tr>\n",
       "  </tbody>\n",
       "</table>\n",
       "</div>"
      ],
      "text/plain": [
       "   Cement  Blast Furnace Slag  Fly Ash  Water  Superplasticizer  \\\n",
       "0   540.0                 0.0      0.0  162.0               2.5   \n",
       "1   540.0                 0.0      0.0  162.0               2.5   \n",
       "2   332.5               142.5      0.0  228.0               0.0   \n",
       "3   332.5               142.5      0.0  228.0               0.0   \n",
       "4   198.6               132.4      0.0  192.0               0.0   \n",
       "\n",
       "   Coarse Aggregate  Fine Aggregate  Age  Strength  \n",
       "0            1040.0           676.0   28     79.99  \n",
       "1            1055.0           676.0   28     61.89  \n",
       "2             932.0           594.0  270     40.27  \n",
       "3             932.0           594.0  365     41.05  \n",
       "4             978.4           825.5  360     44.30  "
      ]
     },
     "execution_count": 1,
     "metadata": {},
     "output_type": "execute_result"
    }
   ],
   "source": [
    "# fetching the data\n",
    "import numpy as np\n",
    "import pandas as pd\n",
    "data = pd.read_csv('https://s3-api.us-geo.objectstorage.softlayer.net/cf-courses-data/CognitiveClass/DL0101EN/labs/data/concrete_data.csv')\n",
    "data.head()"
   ]
  },
  {
   "cell_type": "code",
   "execution_count": 2,
   "metadata": {},
   "outputs": [
    {
     "data": {
      "text/html": [
       "<div>\n",
       "<style scoped>\n",
       "    .dataframe tbody tr th:only-of-type {\n",
       "        vertical-align: middle;\n",
       "    }\n",
       "\n",
       "    .dataframe tbody tr th {\n",
       "        vertical-align: top;\n",
       "    }\n",
       "\n",
       "    .dataframe thead th {\n",
       "        text-align: right;\n",
       "    }\n",
       "</style>\n",
       "<table border=\"1\" class=\"dataframe\">\n",
       "  <thead>\n",
       "    <tr style=\"text-align: right;\">\n",
       "      <th></th>\n",
       "      <th>Cement</th>\n",
       "      <th>Blast Furnace Slag</th>\n",
       "      <th>Fly Ash</th>\n",
       "      <th>Water</th>\n",
       "      <th>Superplasticizer</th>\n",
       "      <th>Coarse Aggregate</th>\n",
       "      <th>Fine Aggregate</th>\n",
       "    </tr>\n",
       "  </thead>\n",
       "  <tbody>\n",
       "    <tr>\n",
       "      <th>0</th>\n",
       "      <td>540.0</td>\n",
       "      <td>0.0</td>\n",
       "      <td>0.0</td>\n",
       "      <td>162.0</td>\n",
       "      <td>2.5</td>\n",
       "      <td>1040.0</td>\n",
       "      <td>676.0</td>\n",
       "    </tr>\n",
       "    <tr>\n",
       "      <th>1</th>\n",
       "      <td>540.0</td>\n",
       "      <td>0.0</td>\n",
       "      <td>0.0</td>\n",
       "      <td>162.0</td>\n",
       "      <td>2.5</td>\n",
       "      <td>1055.0</td>\n",
       "      <td>676.0</td>\n",
       "    </tr>\n",
       "    <tr>\n",
       "      <th>2</th>\n",
       "      <td>332.5</td>\n",
       "      <td>142.5</td>\n",
       "      <td>0.0</td>\n",
       "      <td>228.0</td>\n",
       "      <td>0.0</td>\n",
       "      <td>932.0</td>\n",
       "      <td>594.0</td>\n",
       "    </tr>\n",
       "    <tr>\n",
       "      <th>3</th>\n",
       "      <td>332.5</td>\n",
       "      <td>142.5</td>\n",
       "      <td>0.0</td>\n",
       "      <td>228.0</td>\n",
       "      <td>0.0</td>\n",
       "      <td>932.0</td>\n",
       "      <td>594.0</td>\n",
       "    </tr>\n",
       "    <tr>\n",
       "      <th>4</th>\n",
       "      <td>198.6</td>\n",
       "      <td>132.4</td>\n",
       "      <td>0.0</td>\n",
       "      <td>192.0</td>\n",
       "      <td>0.0</td>\n",
       "      <td>978.4</td>\n",
       "      <td>825.5</td>\n",
       "    </tr>\n",
       "  </tbody>\n",
       "</table>\n",
       "</div>"
      ],
      "text/plain": [
       "   Cement  Blast Furnace Slag  Fly Ash  Water  Superplasticizer  \\\n",
       "0   540.0                 0.0      0.0  162.0               2.5   \n",
       "1   540.0                 0.0      0.0  162.0               2.5   \n",
       "2   332.5               142.5      0.0  228.0               0.0   \n",
       "3   332.5               142.5      0.0  228.0               0.0   \n",
       "4   198.6               132.4      0.0  192.0               0.0   \n",
       "\n",
       "   Coarse Aggregate  Fine Aggregate  \n",
       "0            1040.0           676.0  \n",
       "1            1055.0           676.0  \n",
       "2             932.0           594.0  \n",
       "3             932.0           594.0  \n",
       "4             978.4           825.5  "
      ]
     },
     "execution_count": 2,
     "metadata": {},
     "output_type": "execute_result"
    }
   ],
   "source": [
    "# Predictors and target data\n",
    "predictors = data.drop(['Age','Strength'], axis=1)\n",
    "target = data['Strength']\n",
    "predictors.head()"
   ]
  },
  {
   "cell_type": "markdown",
   "metadata": {},
   "source": [
    "### ***Setting up functions to run through part A to part D***\n",
    "* For every part we will call the function evaluate()\n",
    "* This function will have argument where we can specify all the parameters we are varying through all four scenarios\n",
    "\n",
    "### ***implementing evaluate function***\n",
    "*** inputs :: ***\n",
    "* `hidden_layers` (int): specifying number of hidden layers (10 node, activation function = relu)\n",
    "* `normalized_data` (bool): flag that suggest if we are needing to pass normalized data\n",
    "* `epochs` (int): number of epochs\n",
    "* `Question` (str): Part of the question (i.e. PartA, PartB, etc..)"
   ]
  },
  {
   "cell_type": "code",
   "execution_count": 3,
   "metadata": {},
   "outputs": [],
   "source": [
    "from sklearn.model_selection import train_test_split\n",
    "from sklearn.metrics import mean_squared_error\n",
    "\n",
    "# if keras through tensorflow, if not suited please comment this two lines\n",
    "from tensorflow.keras.models import Sequential\n",
    "from tensorflow.keras.layers import Dense\n",
    "\n",
    "# if only keras available\n",
    "# from keras.models import Sequential\n",
    "# from keras.layers import Dense\n",
    "\n",
    "cols = 7 # we have 7 predictor variables\n",
    "\n",
    "def evaluate(hidden_layers, normalized_data, epochs, Question):\n",
    "\n",
    "    # create model\n",
    "    model = Sequential()\n",
    "    model.add(Dense(10, activation='relu', input_shape=(cols,))) # first hidden layer\n",
    "    # remaining hidden layers as reqruied\n",
    "    remaining_hidden_layers = hidden_layers-1\n",
    "    if(remaining_hidden_layers>0):\n",
    "        for i in range(remaining_hidden_layers):\n",
    "            model.add(Dense(10, activation='relu'))\n",
    "    model.add(Dense(1))\n",
    "    # compile model\n",
    "    model.compile(optimizer='adam', loss='mean_squared_error', metrics=['mean_squared_error'])\n",
    "\n",
    "    # printing status\n",
    "    print(hidden_layers, \" hidden layers each with 10 nodes & 'relu' activation ||  epochs = \", epochs, \" || is data normalized? : \", normalized_data)\n",
    "    print(\"Optimizer = adam || loss function = mean_squared_error\")\n",
    "\n",
    "    MSEs = []\n",
    "    for i in range(0,50):\n",
    "        \n",
    "        # deciding if the data is normalized or not\n",
    "        if(normalized_data):\n",
    "            normalized_predictors = (predictors - predictors.mean()) / predictors.std()\n",
    "            x_train, x_test, y_train, y_test = train_test_split(normalized_predictors, target, test_size=0.3, random_state=i)\n",
    "        else:\n",
    "            x_train, x_test, y_train, y_test = train_test_split(predictors, target, test_size=0.3, random_state=i)\n",
    "\n",
    "        # training the neural network with specified epochs\n",
    "        model.fit(x_train,y_train, epochs=epochs, verbose=0)\n",
    "    \n",
    "        # evaluating the network on the test data\n",
    "        predict = model.predict(x_test)\n",
    "        MSE = np.sqrt(mean_squared_error(y_test, predict))\n",
    "        if((i+1)%5==0 or i==0 or i==49):\n",
    "            print('Trial No: ', i+1, ', value of MSE : ', MSE)\n",
    "        MSEs.append(MSE)\n",
    "        \n",
    "    mean_MSEs = np.mean(MSEs)\n",
    "    std_MSEs = np.std(MSEs)\n",
    "    # calculating mean and std deviation of mean_squared errors.\n",
    "    print(Question,\" : Mean of MSEs : \", mean_MSEs, \", Std deviation of MSEs : \", std_MSEs)\n",
    "    return [mean_MSEs, std_MSEs]\n"
   ]
  },
  {
   "cell_type": "markdown",
   "metadata": {},
   "source": [
    "### PART A ###  \n",
    "\n",
    "- One hidden layer of 10 nodes, and a ReLU activation function\n",
    "- Use the adam optimizer and the mean squared error  as the loss function.\n",
    "\n",
    "1. Randomly split the data into a training and test sets by holding 30% of the data for testing. You can use the train_test_splithelper function from Scikit-learn.\n",
    "2. Train the model on the training data using 50 epochs.\n",
    "3. Evaluate the model on the test data and compute the mean squared error between the predicted concrete strength and the actual concrete strength. You can use the mean_squared_error function from Scikit-learn.\n",
    "4. Repeat steps 1 - 3, 50 times, i.e., create a list of 50 mean squared errors.\n",
    "5. Report the mean and the standard deviation of the mean squared errors."
   ]
  },
  {
   "cell_type": "code",
   "execution_count": 4,
   "metadata": {},
   "outputs": [
    {
     "name": "stdout",
     "output_type": "stream",
     "text": [
      "WARNING:tensorflow:From c:\\Users\\chira\\miniconda3\\envs\\kerasTFAMD\\lib\\site-packages\\tensorflow_core\\python\\ops\\resource_variable_ops.py:1630: calling BaseResourceVariable.__init__ (from tensorflow.python.ops.resource_variable_ops) with constraint is deprecated and will be removed in a future version.\n",
      "Instructions for updating:\n",
      "If using Keras pass *_constraint arguments to layers.\n",
      "1  hidden layers each with 10 nodes & 'relu' activation ||  epochs =  50  || is data normalized? :  False\n",
      "Optimizer = adam || loss function = mean_squared_error\n",
      "Trial No:  1 , value of MSE :  34.628927613384924\n",
      "Trial No:  5 , value of MSE :  13.968830317663851\n",
      "Trial No:  10 , value of MSE :  12.866930818251198\n",
      "Trial No:  15 , value of MSE :  12.39582582069461\n",
      "Trial No:  20 , value of MSE :  12.887446474062443\n",
      "Trial No:  25 , value of MSE :  11.94899032384469\n",
      "Trial No:  30 , value of MSE :  12.348055800048865\n",
      "Trial No:  35 , value of MSE :  12.738469010710407\n",
      "Trial No:  40 , value of MSE :  12.04989928859077\n",
      "Trial No:  45 , value of MSE :  12.202842508708086\n",
      "Trial No:  50 , value of MSE :  12.366386180123483\n",
      "Part A  : Mean of MSEs :  13.328870325412963 , Std deviation of MSEs :  3.5753885936607377\n"
     ]
    }
   ],
   "source": [
    "PartA_MSEs_details = evaluate(hidden_layers = 1, normalized_data = False, epochs = 50, Question = 'Part A')"
   ]
  },
  {
   "cell_type": "markdown",
   "metadata": {},
   "source": [
    "### PART B : Normalize the data & repeat A\n",
    "\n",
    "- Repeat Part A but use a normalized version of the data.\n",
    "- How does the mean of the mean squared errors compare to that from Step A?"
   ]
  },
  {
   "cell_type": "code",
   "execution_count": 5,
   "metadata": {},
   "outputs": [
    {
     "name": "stdout",
     "output_type": "stream",
     "text": [
      "1  hidden layers each with 10 nodes & 'relu' activation ||  epochs =  50  || is data normalized? :  True\n",
      "Optimizer = adam || loss function = mean_squared_error\n",
      "Trial No:  1 , value of MSE :  19.819629631498128\n",
      "Trial No:  5 , value of MSE :  13.032844783051335\n",
      "Trial No:  10 , value of MSE :  12.064860560244904\n",
      "Trial No:  15 , value of MSE :  11.403932054423871\n",
      "Trial No:  20 , value of MSE :  11.669343935060057\n",
      "Trial No:  25 , value of MSE :  10.703301418842505\n",
      "Trial No:  30 , value of MSE :  11.146171026107487\n",
      "Trial No:  35 , value of MSE :  11.55543904845848\n",
      "Trial No:  40 , value of MSE :  10.9081330669073\n",
      "Trial No:  45 , value of MSE :  11.500454319662447\n",
      "Trial No:  50 , value of MSE :  11.550712060526466\n",
      "Part B  : Mean of MSEs :  11.699416461742384 , Std deviation of MSEs :  1.3654152067168561\n"
     ]
    }
   ],
   "source": [
    "PartB_MSEs_details = evaluate(hidden_layers = 1, normalized_data = True, epochs = 50, Question = 'Part B')"
   ]
  },
  {
   "cell_type": "markdown",
   "metadata": {},
   "source": [
    "### PART C: Increate the number of epochs & repeat B\n",
    "\n",
    "- Repeat Part B but use 100 epochs this time for training.\n",
    "- How does the mean of the mean squared errors compare to that from Step B?"
   ]
  },
  {
   "cell_type": "code",
   "execution_count": 6,
   "metadata": {},
   "outputs": [
    {
     "name": "stdout",
     "output_type": "stream",
     "text": [
      "1  hidden layers each with 10 nodes & 'relu' activation ||  epochs =  100  || is data normalized? :  True\n",
      "Optimizer = adam || loss function = mean_squared_error\n",
      "Trial No:  1 , value of MSE :  13.1760334665067\n",
      "Trial No:  5 , value of MSE :  12.381774093666813\n",
      "Trial No:  10 , value of MSE :  12.001094752845514\n",
      "Trial No:  15 , value of MSE :  11.248335106835839\n",
      "Trial No:  20 , value of MSE :  11.588382218424265\n",
      "Trial No:  25 , value of MSE :  10.841485787762752\n",
      "Trial No:  30 , value of MSE :  11.178453137047981\n",
      "Trial No:  35 , value of MSE :  11.315536615658432\n",
      "Trial No:  40 , value of MSE :  10.72965255764738\n",
      "Trial No:  45 , value of MSE :  11.303486609340096\n",
      "Trial No:  50 , value of MSE :  11.530064447536045\n",
      "Part C  : Mean of MSEs :  11.447556095371015 , Std deviation of MSEs :  0.5617237509828857\n"
     ]
    }
   ],
   "source": [
    "PartC_MSEs_details = evaluate(hidden_layers = 1, normalized_data = True, epochs = 100, Question = 'Part C')"
   ]
  },
  {
   "cell_type": "markdown",
   "metadata": {},
   "source": [
    "### PART D: Increase the number of hidden layers & repeat B\n",
    "\n",
    "- Repeat part B but use a neural network with the following instead:\n",
    "- **3 hidden layers**, each of 10 nodes and ReLU activation function.\n",
    "- How does the mean of the mean squared errors compare to that from Step B?"
   ]
  },
  {
   "cell_type": "code",
   "execution_count": 7,
   "metadata": {},
   "outputs": [
    {
     "name": "stdout",
     "output_type": "stream",
     "text": [
      "3  hidden layers each with 10 nodes & 'relu' activation ||  epochs =  50  || is data normalized? :  True\n",
      "Optimizer = adam || loss function = mean_squared_error\n",
      "Trial No:  1 , value of MSE :  12.570255562096312\n",
      "Trial No:  5 , value of MSE :  12.56080077703712\n",
      "Trial No:  10 , value of MSE :  11.861553945024273\n",
      "Trial No:  15 , value of MSE :  11.291174955230245\n",
      "Trial No:  20 , value of MSE :  11.380890754938612\n",
      "Trial No:  25 , value of MSE :  10.493324030786237\n",
      "Trial No:  30 , value of MSE :  10.861750211251517\n",
      "Trial No:  35 , value of MSE :  11.142698087779742\n",
      "Trial No:  40 , value of MSE :  10.633514876727878\n",
      "Trial No:  45 , value of MSE :  11.396905498438093\n",
      "Trial No:  50 , value of MSE :  11.157080148410849\n",
      "Part D  : Mean of MSEs :  11.263319024897207 , Std deviation of MSEs :  0.6058315865135082\n"
     ]
    }
   ],
   "source": [
    "PartD_MSEs_details = evaluate(hidden_layers = 3, normalized_data = True, epochs = 50, Question = 'Part D')"
   ]
  },
  {
   "cell_type": "markdown",
   "metadata": {},
   "source": [
    "### ***Final Results & Analysis***"
   ]
  },
  {
   "cell_type": "code",
   "execution_count": 11,
   "metadata": {},
   "outputs": [
    {
     "name": "stdout",
     "output_type": "stream",
     "text": [
      "  Question  mean of MSE  std dev of MSE\n",
      "0   Part A    13.328870        3.575389\n",
      "1   Part B    11.699416        1.365415\n",
      "2   Part C    11.447556        0.561724\n",
      "3   Part D    11.263319        0.605832\n"
     ]
    }
   ],
   "source": [
    "# let's compare all four results\n",
    "Final_results = pd.DataFrame({'Question':['Part A', 'Part B', 'Part C', 'Part D'], 'mean of MSE':[0.0,0.0,0.0,0.0], 'std dev of MSE':[0.0,0.0,0.0,0.0]})\n",
    "\n",
    "\n",
    "results = [PartA_MSEs_details, PartB_MSEs_details, PartC_MSEs_details, PartD_MSEs_details]\n",
    "for i,result in enumerate(results):\n",
    "    Final_results.loc[i,['mean of MSE']] = result[0]\n",
    "    Final_results.loc[i,['std dev of MSE']] = result[1]\n",
    "    \n",
    "print(Final_results)"
   ]
  },
  {
   "cell_type": "markdown",
   "metadata": {},
   "source": [
    "### ***Answer***\n",
    "- As you can see from the table above, moving from PART A to PART D, the mean squared error is decreasing. Meaning we are gaining more and more accuracy. Also, up to some extent stadard deviation is decreasing as well.\n",
    "- Over all PART A has the least accuracy and PART D has the highest, with slightly more std dev than PART C\n",
    "\n",
    "-  Question  mean of MSE  std dev of MSE\n",
    "-  Part A    13.328870        3.575389\n",
    "-  Part B    11.699416        1.365415\n",
    "-  Part C    11.447556        0.561724\n",
    "-  Part D    11.263319        0.605832"
   ]
  },
  {
   "cell_type": "markdown",
   "metadata": {},
   "source": []
  }
 ],
 "metadata": {
  "kernelspec": {
   "display_name": "Python 3.6.13 ('kerasTFAMD')",
   "language": "python",
   "name": "python3"
  },
  "language_info": {
   "codemirror_mode": {
    "name": "ipython",
    "version": 3
   },
   "file_extension": ".py",
   "mimetype": "text/x-python",
   "name": "python",
   "nbconvert_exporter": "python",
   "pygments_lexer": "ipython3",
   "version": "3.6.13"
  },
  "orig_nbformat": 4,
  "vscode": {
   "interpreter": {
    "hash": "e2ac8d323b923e2467944fc7397511010ae06b2aeb624024ab6483c7456b6c12"
   }
  }
 },
 "nbformat": 4,
 "nbformat_minor": 2
}
