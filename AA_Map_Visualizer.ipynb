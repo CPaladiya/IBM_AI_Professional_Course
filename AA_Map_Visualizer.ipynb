{
 "cells": [
  {
   "cell_type": "markdown",
   "metadata": {},
   "source": [
    "# American mass shootings Map visualizer\n",
    "\n",
    "## Objectives\n",
    "\n",
    "*   Showcase of year by year analysis of mass shootings in United States of America\n",
    "*   Detailed visualization on location of the events, victims and the approximate timeline\n",
    "*   Primary purpose is to engage user with fluid visuals to comprehand severity of these fatal events and spread awareness about gun violence\n",
    "*   Data source : [Mother Jones and the Foundation for National Progress](https://docs.google.com/spreadsheets/d/e/2PACX-1vQBEbQoWMn_P81DuwmlQC0_jr2sJDzkkC0mvF6WLcM53ZYXi8RMfUlunvP1B5W0jRrJvH-wc-WGjDB1/pub?gid=0&single=true&output=csv)\n"
   ]
  },
  {
   "cell_type": "code",
   "execution_count": 83,
   "metadata": {},
   "outputs": [],
   "source": [
    "import pandas as pd\n",
    "import numpy as np\n",
    "import geopy as gp\n",
    "from mpl_toolkits.basemap import Basemap\n",
    "import matplotlib.pyplot as plt\n",
    "from pylab import rcParams\n",
    "%matplotlib inline"
   ]
  },
  {
   "cell_type": "code",
   "execution_count": 84,
   "metadata": {},
   "outputs": [
    {
     "data": {
      "text/html": [
       "<div>\n",
       "<style scoped>\n",
       "    .dataframe tbody tr th:only-of-type {\n",
       "        vertical-align: middle;\n",
       "    }\n",
       "\n",
       "    .dataframe tbody tr th {\n",
       "        vertical-align: top;\n",
       "    }\n",
       "\n",
       "    .dataframe thead th {\n",
       "        text-align: right;\n",
       "    }\n",
       "</style>\n",
       "<table border=\"1\" class=\"dataframe\">\n",
       "  <thead>\n",
       "    <tr style=\"text-align: right;\">\n",
       "      <th></th>\n",
       "      <th>location</th>\n",
       "      <th>date</th>\n",
       "      <th>total_victims</th>\n",
       "    </tr>\n",
       "  </thead>\n",
       "  <tbody>\n",
       "    <tr>\n",
       "      <th>0</th>\n",
       "      <td>Smithsburg, Maryland</td>\n",
       "      <td>6/9/22</td>\n",
       "      <td>4</td>\n",
       "    </tr>\n",
       "    <tr>\n",
       "      <th>1</th>\n",
       "      <td>Tulsa, Oklahoma</td>\n",
       "      <td>6/1/22</td>\n",
       "      <td>TK</td>\n",
       "    </tr>\n",
       "    <tr>\n",
       "      <th>2</th>\n",
       "      <td>Uvalde, Texas</td>\n",
       "      <td>5/24/22</td>\n",
       "      <td>38</td>\n",
       "    </tr>\n",
       "    <tr>\n",
       "      <th>3</th>\n",
       "      <td>Buffalo, New York</td>\n",
       "      <td>5/14/22</td>\n",
       "      <td>13</td>\n",
       "    </tr>\n",
       "    <tr>\n",
       "      <th>4</th>\n",
       "      <td>Sacramento, California</td>\n",
       "      <td>2/28/22</td>\n",
       "      <td>4</td>\n",
       "    </tr>\n",
       "  </tbody>\n",
       "</table>\n",
       "</div>"
      ],
      "text/plain": [
       "                 location     date total_victims\n",
       "0    Smithsburg, Maryland   6/9/22             4\n",
       "1         Tulsa, Oklahoma   6/1/22            TK\n",
       "2           Uvalde, Texas  5/24/22            38\n",
       "3       Buffalo, New York  5/14/22            13\n",
       "4  Sacramento, California  2/28/22             4"
      ]
     },
     "execution_count": 84,
     "metadata": {},
     "output_type": "execute_result"
    }
   ],
   "source": [
    "# Reading the database\n",
    "BaseData = pd.read_csv(\"Data/MotherJonesDataBase.csv\")\n",
    "\n",
    "# Only fetching the values that is useful for this task\n",
    "BaseData = BaseData[['location','date','total_victims']]\n",
    "BaseData.head()"
   ]
  },
  {
   "cell_type": "code",
   "execution_count": 85,
   "metadata": {},
   "outputs": [
    {
     "data": {
      "text/html": [
       "<div>\n",
       "<style scoped>\n",
       "    .dataframe tbody tr th:only-of-type {\n",
       "        vertical-align: middle;\n",
       "    }\n",
       "\n",
       "    .dataframe tbody tr th {\n",
       "        vertical-align: top;\n",
       "    }\n",
       "\n",
       "    .dataframe thead th {\n",
       "        text-align: right;\n",
       "    }\n",
       "</style>\n",
       "<table border=\"1\" class=\"dataframe\">\n",
       "  <thead>\n",
       "    <tr style=\"text-align: right;\">\n",
       "      <th></th>\n",
       "      <th>location</th>\n",
       "      <th>date</th>\n",
       "      <th>total_victims</th>\n",
       "    </tr>\n",
       "  </thead>\n",
       "  <tbody>\n",
       "    <tr>\n",
       "      <th>129</th>\n",
       "      <td>Miami, Florida</td>\n",
       "      <td>1982-08-20</td>\n",
       "      <td>11</td>\n",
       "    </tr>\n",
       "    <tr>\n",
       "      <th>128</th>\n",
       "      <td>Dallas, Texas</td>\n",
       "      <td>1984-06-29</td>\n",
       "      <td>7</td>\n",
       "    </tr>\n",
       "    <tr>\n",
       "      <th>127</th>\n",
       "      <td>San Ysidro, California</td>\n",
       "      <td>1984-07-18</td>\n",
       "      <td>41</td>\n",
       "    </tr>\n",
       "    <tr>\n",
       "      <th>126</th>\n",
       "      <td>Edmond, Oklahoma</td>\n",
       "      <td>1986-08-20</td>\n",
       "      <td>21</td>\n",
       "    </tr>\n",
       "    <tr>\n",
       "      <th>125</th>\n",
       "      <td>Palm Bay, Florida</td>\n",
       "      <td>1987-04-23</td>\n",
       "      <td>20</td>\n",
       "    </tr>\n",
       "  </tbody>\n",
       "</table>\n",
       "</div>"
      ],
      "text/plain": [
       "                   location       date total_victims\n",
       "129          Miami, Florida 1982-08-20            11\n",
       "128           Dallas, Texas 1984-06-29             7\n",
       "127  San Ysidro, California 1984-07-18            41\n",
       "126        Edmond, Oklahoma 1986-08-20            21\n",
       "125       Palm Bay, Florida 1987-04-23            20"
      ]
     },
     "execution_count": 85,
     "metadata": {},
     "output_type": "execute_result"
    }
   ],
   "source": [
    "# converting dates into dateTime format and sorting it by date\n",
    "BaseData['date'] = pd.to_datetime(BaseData['date'])\n",
    "BaseData = BaseData.sort_values(by=\"date\")\n",
    "BaseData.head()"
   ]
  },
  {
   "cell_type": "code",
   "execution_count": 86,
   "metadata": {},
   "outputs": [
    {
     "data": {
      "text/html": [
       "<div>\n",
       "<style scoped>\n",
       "    .dataframe tbody tr th:only-of-type {\n",
       "        vertical-align: middle;\n",
       "    }\n",
       "\n",
       "    .dataframe tbody tr th {\n",
       "        vertical-align: top;\n",
       "    }\n",
       "\n",
       "    .dataframe thead th {\n",
       "        text-align: right;\n",
       "    }\n",
       "</style>\n",
       "<table border=\"1\" class=\"dataframe\">\n",
       "  <thead>\n",
       "    <tr style=\"text-align: right;\">\n",
       "      <th></th>\n",
       "      <th>location</th>\n",
       "      <th>total_victims</th>\n",
       "      <th>year</th>\n",
       "      <th>month</th>\n",
       "    </tr>\n",
       "  </thead>\n",
       "  <tbody>\n",
       "    <tr>\n",
       "      <th>129</th>\n",
       "      <td>Miami, Florida</td>\n",
       "      <td>11</td>\n",
       "      <td>1982</td>\n",
       "      <td>8</td>\n",
       "    </tr>\n",
       "    <tr>\n",
       "      <th>128</th>\n",
       "      <td>Dallas, Texas</td>\n",
       "      <td>7</td>\n",
       "      <td>1984</td>\n",
       "      <td>6</td>\n",
       "    </tr>\n",
       "    <tr>\n",
       "      <th>127</th>\n",
       "      <td>San Ysidro, California</td>\n",
       "      <td>41</td>\n",
       "      <td>1984</td>\n",
       "      <td>7</td>\n",
       "    </tr>\n",
       "    <tr>\n",
       "      <th>126</th>\n",
       "      <td>Edmond, Oklahoma</td>\n",
       "      <td>21</td>\n",
       "      <td>1986</td>\n",
       "      <td>8</td>\n",
       "    </tr>\n",
       "    <tr>\n",
       "      <th>125</th>\n",
       "      <td>Palm Bay, Florida</td>\n",
       "      <td>20</td>\n",
       "      <td>1987</td>\n",
       "      <td>4</td>\n",
       "    </tr>\n",
       "  </tbody>\n",
       "</table>\n",
       "</div>"
      ],
      "text/plain": [
       "                   location total_victims  year  month\n",
       "129          Miami, Florida            11  1982      8\n",
       "128           Dallas, Texas             7  1984      6\n",
       "127  San Ysidro, California            41  1984      7\n",
       "126        Edmond, Oklahoma            21  1986      8\n",
       "125       Palm Bay, Florida            20  1987      4"
      ]
     },
     "execution_count": 86,
     "metadata": {},
     "output_type": "execute_result"
    }
   ],
   "source": [
    "\n",
    "# Fetching month and year out of the date column\n",
    "BaseData['year'] = pd.DatetimeIndex(BaseData['date']).year\n",
    "BaseData['month'] = pd.DatetimeIndex(BaseData['date']).month\n",
    "#dropping the date column\n",
    "BaseData = BaseData.drop(\"date\", axis=1)\n",
    "\n",
    "BaseData.head()"
   ]
  },
  {
   "cell_type": "code",
   "execution_count": 87,
   "metadata": {},
   "outputs": [
    {
     "name": "stdout",
     "output_type": "stream",
     "text": [
      "Shape before dropping rows with any empty value :  (130, 4)\n",
      "Shape after dropping rows with any empty value :  (130, 4)\n",
      "Shape before removing NAN :  (130, 4)\n",
      "Shape after removing NAN :  (129, 4)\n"
     ]
    },
    {
     "data": {
      "text/plain": [
       "location          string\n",
       "total_victims    float64\n",
       "year               int64\n",
       "month              int64\n",
       "dtype: object"
      ]
     },
     "execution_count": 87,
     "metadata": {},
     "output_type": "execute_result"
    }
   ],
   "source": [
    "# Dropping rows that has any missing values\n",
    "print(\"Shape before dropping rows with any empty value : \", BaseData.shape)\n",
    "BaseData = BaseData.dropna()\n",
    "print(\"Shape after dropping rows with any empty value : \", BaseData.shape)\n",
    "\n",
    "# total_victim has to have all the numeric values,\n",
    "BaseData['total_victims'] = pd.to_numeric(BaseData['total_victims'], downcast='signed', errors = 'coerce')\n",
    "# location has to have all the string values,\n",
    "BaseData['location'] = BaseData['location'].astype(\"string\")\n",
    "# any row that has NAN remove that\n",
    "print(\"Shape before removing NAN : \", BaseData.shape)\n",
    "BaseData = BaseData.dropna(subset=['location','total_victims','year','month'])\n",
    "print(\"Shape after removing NAN : \", BaseData.shape)\n",
    "\n",
    "BaseData.dtypes"
   ]
  },
  {
   "cell_type": "code",
   "execution_count": 88,
   "metadata": {},
   "outputs": [],
   "source": [
    "# split the city and the state\n",
    "#BaseData[['city','state']] = BaseData['location'].str.split(',',expand=True)\n",
    "# removing any extra spaces around the name of the city and state\n",
    "#BaseData['city'] = BaseData['city'].str.strip()\n",
    "#BaseData['state'] = BaseData['state'].str.strip()\n",
    "#BaseData.head()"
   ]
  },
  {
   "cell_type": "code",
   "execution_count": 89,
   "metadata": {},
   "outputs": [
    {
     "name": "stdout",
     "output_type": "stream",
     "text": [
      "32.7762719 -96.7968559\n"
     ]
    }
   ],
   "source": [
    "# Setting up application to find lattitude and longitude of various places\n",
    "# I am using openStreetMap data with Nominatim geocoder\n",
    "geolocator = gp.Nominatim(user_agent=\"AA_Map_Visualizer.ipynb\")\n",
    "location = geolocator.geocode(\"Dallas, Texas\")\n",
    "print(location.latitude, location.longitude)\n",
    "BaseData.dtypes\n",
    "\n",
    "# since we will be doing repeated calls to nominatim, we need to use limiter to slow it down to avoid errors.\n",
    "from geopy.extra.rate_limiter import RateLimiter\n",
    "geocode = RateLimiter(geolocator.geocode, min_delay_seconds=1)"
   ]
  },
  {
   "cell_type": "code",
   "execution_count": null,
   "metadata": {},
   "outputs": [],
   "source": [
    "# now let's use this geolocator to fetch latitude and longitude for all the cities we want to plot on the graph\n",
    "BaseData['LocationObj'] = BaseData['location'].apply(geocode)\n",
    "BaseData.head()"
   ]
  },
  {
   "cell_type": "code",
   "execution_count": null,
   "metadata": {},
   "outputs": [],
   "source": [
    "# Load latitude and longitude using LocationObj returned by Geocoder\n",
    "# See if the object type is of None, then just o/p NAN\n",
    "BaseData['latitude'] = BaseData['LocationObj'].apply(lambda x : x.latitude if x != None else np.NAN)\n",
    "BaseData['longitude'] = BaseData['LocationObj'].apply(lambda x : x.longitude if x != None else np.NAN)\n",
    "\n",
    "# we don't need LocationObj anymore so remove it\n",
    "BaseData.drop('LocationObj', axis=1)\n",
    "# Remove any row that has NAN values\n",
    "BaseData.dropna(subset=['latitude', 'longitude'])\n",
    "\n",
    "BaseData.head()"
   ]
  },
  {
   "cell_type": "code",
   "execution_count": null,
   "metadata": {},
   "outputs": [],
   "source": []
  }
 ],
 "metadata": {
  "kernelspec": {
   "display_name": "Python 3.8.13 ('DLCondaEnv')",
   "language": "python",
   "name": "python3"
  },
  "language_info": {
   "codemirror_mode": {
    "name": "ipython",
    "version": 3
   },
   "file_extension": ".py",
   "mimetype": "text/x-python",
   "name": "python",
   "nbconvert_exporter": "python",
   "pygments_lexer": "ipython3",
   "version": "3.8.13"
  },
  "orig_nbformat": 4,
  "vscode": {
   "interpreter": {
    "hash": "7fb008ba8724debb7f10838702c3d228fb5eb9ee59a6237dd0d2963ee78a2087"
   }
  }
 },
 "nbformat": 4,
 "nbformat_minor": 2
}
